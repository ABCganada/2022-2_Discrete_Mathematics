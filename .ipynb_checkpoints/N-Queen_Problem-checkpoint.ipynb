{
 "cells": [
  {
   "cell_type": "markdown",
   "id": "dd82759d",
   "metadata": {},
   "source": [
    "## N-Queen Problem\n",
    "\n",
    "Make a python program that solve N-Queen problem according to the following inputs and output.\n",
    "\n",
    "Input: Enter # of Queen: n\n",
    "\n",
    "Output 1: Total possible arrangements: 2 (when n == 4)\n",
    "\n",
    "Output 2: The first few arrangenets are:\n",
    "\n",
    "                        0 0 1 0\n",
    "                        1 0 0 0\n",
    "                        0 0 0 1\n",
    "                        0 1 0 0"
   ]
  },
  {
   "cell_type": "code",
   "execution_count": 1,
   "id": "afa17141",
   "metadata": {},
   "outputs": [
    {
     "name": "stdout",
     "output_type": "stream",
     "text": [
      "4\n"
     ]
    }
   ],
   "source": [
    "Size = int(input())"
   ]
  },
  {
   "cell_type": "code",
   "execution_count": 2,
   "id": "608d66a1",
   "metadata": {},
   "outputs": [],
   "source": [
    "res = 0"
   ]
  },
  {
   "cell_type": "code",
   "execution_count": 3,
   "id": "6ffe3561",
   "metadata": {},
   "outputs": [],
   "source": [
    "row = [0] * Size"
   ]
  },
  {
   "cell_type": "code",
   "execution_count": 4,
   "id": "1551a5be",
   "metadata": {},
   "outputs": [],
   "source": [
    "def is_promising(x):\n",
    "    for i in range(x):\n",
    "        if row[x] == row[i] or abs(row[x] - row[i]) == abs(x-i):\n",
    "            return False\n",
    "        \n",
    "    return True"
   ]
  },
  {
   "cell_type": "code",
   "execution_count": 5,
   "id": "ef6da8f2",
   "metadata": {},
   "outputs": [],
   "source": [
    "def N_queens(x):\n",
    "    global res\n",
    "    if x == Size:\n",
    "        res += 1\n",
    "        return\n",
    "\n",
    "    else:\n",
    "        for i in range(Size):\n",
    "            row[x] = i\n",
    "            if is_promising(x):\n",
    "                N_queens(x+1)"
   ]
  },
  {
   "cell_type": "code",
   "execution_count": 6,
   "id": "985ac29c",
   "metadata": {},
   "outputs": [],
   "source": [
    "N_queens(0)"
   ]
  },
  {
   "cell_type": "code",
   "execution_count": 7,
   "id": "e92033d3",
   "metadata": {},
   "outputs": [
    {
     "name": "stdout",
     "output_type": "stream",
     "text": [
      "2\n"
     ]
    }
   ],
   "source": [
    "print(res)"
   ]
  },
  {
   "cell_type": "code",
   "execution_count": null,
   "id": "a6fbe4d8",
   "metadata": {},
   "outputs": [],
   "source": []
  }
 ],
 "metadata": {
  "kernelspec": {
   "display_name": "Python 3 (ipykernel)",
   "language": "python",
   "name": "python3"
  },
  "language_info": {
   "codemirror_mode": {
    "name": "ipython",
    "version": 3
   },
   "file_extension": ".py",
   "mimetype": "text/x-python",
   "name": "python",
   "nbconvert_exporter": "python",
   "pygments_lexer": "ipython3",
   "version": "3.9.12"
  },
  "vscode": {
   "interpreter": {
    "hash": "921c31f34d6b299876c2300015b1637dd26d40f5dc4987665871b1f9f112812f"
   }
  }
 },
 "nbformat": 4,
 "nbformat_minor": 5
}
